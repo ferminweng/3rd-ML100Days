{
 "cells": [
  {
   "cell_type": "code",
   "execution_count": null,
   "metadata": {},
   "outputs": [],
   "source": [
    "\"\"\"\n",
    "雇佣劳工冒充AI？校园外卖机器人竟是远程人工操纵，时薪2美元\n",
    "https://www.jiqizhixin.com/articles/2019-08-28-6\n",
    "\n",
    "作業 1：目標\n",
    "    - 解決人工送餐高額薪資問題\n",
    "作業 2：方法\n",
    "    - 使用機器視覺來判斷送餐路徑\n",
    "作業 3：資料來源 \n",
    "    - 機器之心\n",
    "\"\"\""
   ]
  }
 ],
 "metadata": {
  "kernelspec": {
   "display_name": "Python 3",
   "language": "python",
   "name": "python3"
  },
  "language_info": {
   "codemirror_mode": {
    "name": "ipython",
    "version": 3
   },
   "file_extension": ".py",
   "mimetype": "text/x-python",
   "name": "python",
   "nbconvert_exporter": "python",
   "pygments_lexer": "ipython3",
   "version": "3.7.3"
  }
 },
 "nbformat": 4,
 "nbformat_minor": 2
}
