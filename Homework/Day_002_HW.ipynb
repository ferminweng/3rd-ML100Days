{
 "cells": [
  {
   "cell_type": "code",
   "execution_count": null,
   "metadata": {},
   "outputs": [],
   "source": [
    "\"\"\"\n",
    "思考題_請找出一個你認為機器學習可以發光發熱的領域並闡述原因?\n",
    "    - 藉由機器學習的監督式學習將小孩哭聲的音頻鍵入database，再基於基本的資料庫上使用非監督式學習來擴充資料庫\n",
    "    這樣的機器學習內容可以使新手爸媽更容易知道小孩為何而哭，該下什麼樣的對策滿足小孩\n",
    "\"\"\""
   ]
  }
 ],
 "metadata": {
  "kernelspec": {
   "display_name": "Python 3",
   "language": "python",
   "name": "python3"
  },
  "language_info": {
   "codemirror_mode": {
    "name": "ipython",
    "version": 3
   },
   "file_extension": ".py",
   "mimetype": "text/x-python",
   "name": "python",
   "nbconvert_exporter": "python",
   "pygments_lexer": "ipython3",
   "version": "3.7.3"
  }
 },
 "nbformat": 4,
 "nbformat_minor": 2
}
